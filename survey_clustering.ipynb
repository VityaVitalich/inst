{
 "cells": [
  {
   "cell_type": "code",
   "execution_count": 1,
   "metadata": {},
   "outputs": [],
   "source": [
    "import pandas as pd\n",
    "import numpy as np"
   ]
  },
  {
   "cell_type": "code",
   "execution_count": 2,
   "metadata": {},
   "outputs": [],
   "source": [
    "df = pd.read_excel('Downloads/survey.xlsx')"
   ]
  },
  {
   "cell_type": "code",
   "execution_count": 3,
   "metadata": {},
   "outputs": [],
   "source": [
    "pos = df['indexxx'].value_counts().index\n",
    "pos = pos.values.astype(int)\n",
    "pos = np.sort(list(pos))\n",
    "squarer = lambda t: t-2\n",
    "squarer = np.vectorize(squarer)\n",
    "pos = squarer(pos)\n",
    "df1 = df.iloc[pos]\n",
    "#df1.to_excel('survey_filtered.xlsx')"
   ]
  },
  {
   "cell_type": "code",
   "execution_count": 4,
   "metadata": {},
   "outputs": [],
   "source": [
    "trash_ls = ['Ethnicity - Australia & NZ Only',\n",
    "       'Ethnicity - Brazil only', 'Ethnicity - Estonia only',\n",
    "       'Ethnicity - Latvia only', 'Ethnicity - Lithuania only',\n",
    "       'Ethnicity - New Zealand only', 'Ethnicity - South Africa Only',\n",
    "       'Ethnicity - UK only', 'Ethnicity - US & Canada only',\n",
    "       'Sweden - Country of birth', 'Ethnicity - Malaysia/Singapore', 'Occupation level (SEL) - Argentina', \n",
    "         'Gender of children', 'Pets', 'Education - General',\n",
    "       'Education level - Austria', 'Education level - Denmark',\n",
    "       'Education level - Hungary', 'Education level - Lithuania',\n",
    "       'Education level - Netherlands', 'Education level - Pakistan',\n",
    "       'Education level - Poland', 'Education level (SEL) - Argentina',\n",
    "       'Education level - Brazil', 'Education level (SEL) - Chile',\n",
    "       'Education level - India', 'Education level - Mexico',\n",
    "       'Education level (SEL) - Peru','Socio Economic Level - Argentina', 'Socio Economic Level - Brazil',\n",
    "       'Socio Economic Level - Chile', 'Socio Economic Level - Ecuador',\n",
    "       'Socio Economic Level - Mexico', 'Socio Economic Level - Peru',\n",
    "       'Socio Economic Level - Portugal', 'Socio Economic Level - UK',\n",
    "       'Energy Bill (SEL) - Colombia', 'Socio Economic Level - India',\n",
    "       'Socio Economic Level - Turkey', 'Social Class - France',\n",
    "       'Socio Economic Level - Pakistan', 'Socio Economic Level - Philippines',\n",
    "       'Social Class - Spain', 'indexxx', 'GUID', 'pink', 'Country', \"Status\"  ]"
   ]
  },
  {
   "cell_type": "code",
   "execution_count": 5,
   "metadata": {},
   "outputs": [],
   "source": [
    "df1 = df1.drop(columns=trash_ls)\n",
    "df1.index = np.arange(len(df1))"
   ]
  },
  {
   "cell_type": "code",
   "execution_count": 16,
   "metadata": {},
   "outputs": [],
   "source": [
    "df1 = pd.read_excel('Downloads/survey_superfiltered_upd.xlsx', index_col=0)\n",
    "df1.index = np.arange(len(df1))"
   ]
  },
  {
   "cell_type": "code",
   "execution_count": 40,
   "metadata": {},
   "outputs": [
    {
     "data": {
      "text/plain": [
       "(290, 447)"
      ]
     },
     "execution_count": 40,
     "metadata": {},
     "output_type": "execute_result"
    }
   ],
   "source": [
    "np.sum(df1['Household Income Classification'].value_counts()), len(df1)"
   ]
  },
  {
   "cell_type": "code",
   "execution_count": 30,
   "metadata": {},
   "outputs": [
    {
     "data": {
      "text/plain": [
       "Index(['RespondentUrlCode', 'Gender', 'Age', 'TargetGroupName',\n",
       "       'Access to car', 'Make of car/cars', 'Car manufactured year',\n",
       "       'car purchase year', 'Automotive decision maker', 'Occupation',\n",
       "       'Primary role in organization', 'Company size', 'Industry sector',\n",
       "       'Field of expertise', 'Decision Making Authority', 'Marital Status',\n",
       "       'Accommodation', 'Household Size', 'Number of children',\n",
       "       'Ages of children', 'Beverage consumption', 'Tobacco - Do you smoke',\n",
       "       'Bank clients (Russia only)', 'Personal Income Classification',\n",
       "       'Household Income Classification'],\n",
       "      dtype='object')"
      ]
     },
     "execution_count": 30,
     "metadata": {},
     "output_type": "execute_result"
    }
   ],
   "source": [
    "df1.columns"
   ]
  },
  {
   "cell_type": "code",
   "execution_count": 42,
   "metadata": {},
   "outputs": [],
   "source": [
    "trash_ls1 = ['Automotive decision maker', 'Primary role in organization',\n",
    "             'Company size', 'Decision Making Authority', 'Bank clients (Russia only)',\n",
    "            'Personal Income Classification', 'Household Income Classification']\n",
    "df1 = df1.drop(columns=trash_ls1)\n",
    "df1.index = np.arange(len(df1))"
   ]
  },
  {
   "cell_type": "code",
   "execution_count": 47,
   "metadata": {},
   "outputs": [
    {
     "data": {
      "text/plain": [
       "44"
      ]
     },
     "execution_count": 47,
     "metadata": {},
     "output_type": "execute_result"
    }
   ],
   "source": [
    "df1['Age'][1] "
   ]
  },
  {
   "cell_type": "code",
   "execution_count": 48,
   "metadata": {},
   "outputs": [
    {
     "name": "stderr",
     "output_type": "stream",
     "text": [
      "C:\\Users\\moskvoretskiyvv\\Anaconda3\\lib\\site-packages\\ipykernel_launcher.py:7: SettingWithCopyWarning: \n",
      "A value is trying to be set on a copy of a slice from a DataFrame\n",
      "\n",
      "See the caveats in the documentation: https://pandas.pydata.org/pandas-docs/stable/user_guide/indexing.html#returning-a-view-versus-a-copy\n",
      "  import sys\n",
      "C:\\Users\\moskvoretskiyvv\\Anaconda3\\lib\\site-packages\\ipykernel_launcher.py:13: SettingWithCopyWarning: \n",
      "A value is trying to be set on a copy of a slice from a DataFrame\n",
      "\n",
      "See the caveats in the documentation: https://pandas.pydata.org/pandas-docs/stable/user_guide/indexing.html#returning-a-view-versus-a-copy\n",
      "  del sys.path[0]\n",
      "C:\\Users\\moskvoretskiyvv\\Anaconda3\\lib\\site-packages\\ipykernel_launcher.py:9: SettingWithCopyWarning: \n",
      "A value is trying to be set on a copy of a slice from a DataFrame\n",
      "\n",
      "See the caveats in the documentation: https://pandas.pydata.org/pandas-docs/stable/user_guide/indexing.html#returning-a-view-versus-a-copy\n",
      "  if __name__ == '__main__':\n",
      "C:\\Users\\moskvoretskiyvv\\Anaconda3\\lib\\site-packages\\ipykernel_launcher.py:15: SettingWithCopyWarning: \n",
      "A value is trying to be set on a copy of a slice from a DataFrame\n",
      "\n",
      "See the caveats in the documentation: https://pandas.pydata.org/pandas-docs/stable/user_guide/indexing.html#returning-a-view-versus-a-copy\n",
      "  from ipykernel import kernelapp as app\n"
     ]
    }
   ],
   "source": [
    "for i in range(len(df1)):\n",
    "    try:\n",
    "        if df1['Age'][i]<24:\n",
    "        #print(df1['Age'][i])\n",
    "           df1['Age'][i]=3 #zoomer\n",
    "        if df1['Age'][i] <40 and df1['Age'][i] >=24:\n",
    "            df1['Age'][i] = 2 #millenial\n",
    "        if df1['Age'][i] <56 and df1['Age'][i] >=40:\n",
    "            df1['Age'][i] = 1 #X\n",
    "        if df1['Age'][i] >=56:\n",
    "            df1['Age'][i]= 0 #boomer\n",
    "        if df1['Gender'][i] == 'Female':\n",
    "            df1['Gender'][i] = 1\n",
    "        if df1['Gender'][i] == 'Male':\n",
    "            df1['Gender'][i] = 2\n",
    "    except:\n",
    "        print(i, df1['Age'][i])\n"
   ]
  },
  {
   "cell_type": "code",
   "execution_count": 49,
   "metadata": {},
   "outputs": [
    {
     "data": {
      "text/plain": [
       "2    285\n",
       "1    162\n",
       "Name: Age, dtype: int64"
      ]
     },
     "execution_count": 49,
     "metadata": {},
     "output_type": "execute_result"
    }
   ],
   "source": [
    "df1['Age'].value_counts()"
   ]
  },
  {
   "cell_type": "code",
   "execution_count": 61,
   "metadata": {},
   "outputs": [
    {
     "data": {
      "text/html": [
       "<div>\n",
       "<style scoped>\n",
       "    .dataframe tbody tr th:only-of-type {\n",
       "        vertical-align: middle;\n",
       "    }\n",
       "\n",
       "    .dataframe tbody tr th {\n",
       "        vertical-align: top;\n",
       "    }\n",
       "\n",
       "    .dataframe thead th {\n",
       "        text-align: right;\n",
       "    }\n",
       "</style>\n",
       "<table border=\"1\" class=\"dataframe\">\n",
       "  <thead>\n",
       "    <tr style=\"text-align: right;\">\n",
       "      <th></th>\n",
       "      <th>RespondentUrlCode</th>\n",
       "      <th>Gender</th>\n",
       "      <th>Age</th>\n",
       "      <th>TargetGroupName</th>\n",
       "      <th>Access to car</th>\n",
       "      <th>Make of car/cars</th>\n",
       "      <th>Car manufactured year</th>\n",
       "      <th>car purchase year</th>\n",
       "      <th>Occupation</th>\n",
       "      <th>Industry sector</th>\n",
       "      <th>Field of expertise</th>\n",
       "      <th>Marital Status</th>\n",
       "      <th>Accommodation</th>\n",
       "      <th>Household Size</th>\n",
       "      <th>Number of children</th>\n",
       "      <th>Ages of children</th>\n",
       "      <th>Beverage consumption</th>\n",
       "      <th>Tobacco - Do you smoke</th>\n",
       "    </tr>\n",
       "  </thead>\n",
       "  <tbody>\n",
       "    <tr>\n",
       "      <th>0</th>\n",
       "      <td>d23a13d4-5f8a-ec55-17c4-2411db8ad123</td>\n",
       "      <td>1</td>\n",
       "      <td>2</td>\n",
       "      <td>Large cities</td>\n",
       "      <td>No, I donâ€™t have access to a car/cars</td>\n",
       "      <td>I don't own/lease a car</td>\n",
       "      <td>I don't own/lease a car</td>\n",
       "      <td>I don't own/lease a car</td>\n",
       "      <td>NaN</td>\n",
       "      <td>NaN</td>\n",
       "      <td>Customer Service/Client Service</td>\n",
       "      <td>Domestic partnership / Living with partner</td>\n",
       "      <td>Rented apartment</td>\n",
       "      <td>3</td>\n",
       "      <td>One</td>\n",
       "      <td>2005</td>\n",
       "      <td>Coffee;Regular soda;Domestic beer</td>\n",
       "      <td>NaN</td>\n",
       "    </tr>\n",
       "    <tr>\n",
       "      <th>1</th>\n",
       "      <td>f5373ade-3fcb-c553-1ace-0d1cc83bc119</td>\n",
       "      <td>2</td>\n",
       "      <td>1</td>\n",
       "      <td>Large cities</td>\n",
       "      <td>I own a car/cars</td>\n",
       "      <td>Volkswagen</td>\n",
       "      <td>2017</td>\n",
       "      <td>2019</td>\n",
       "      <td>Full-time work</td>\n",
       "      <td>Manufacturing</td>\n",
       "      <td>Operations</td>\n",
       "      <td>Married</td>\n",
       "      <td>Owned apartment</td>\n",
       "      <td>5</td>\n",
       "      <td>Three</td>\n",
       "      <td>2003;2005;2008</td>\n",
       "      <td>Coffee;Tea;Bottled water still;Juice;Domestic ...</td>\n",
       "      <td>Yes, I smoke</td>\n",
       "    </tr>\n",
       "    <tr>\n",
       "      <th>2</th>\n",
       "      <td>e6b6c135-8047-3ea6-9b25-f69d797b6ee9</td>\n",
       "      <td>1</td>\n",
       "      <td>1</td>\n",
       "      <td>Large cities</td>\n",
       "      <td>No, I donâ€™t have access to a car/cars</td>\n",
       "      <td>I don't own/lease a car</td>\n",
       "      <td>I don't own/lease a car</td>\n",
       "      <td>I don't own/lease a car</td>\n",
       "      <td>Parental leave</td>\n",
       "      <td>Accounting</td>\n",
       "      <td>Other</td>\n",
       "      <td>Married</td>\n",
       "      <td>Living with my parents</td>\n",
       "      <td>6</td>\n",
       "      <td>Two</td>\n",
       "      <td>2011</td>\n",
       "      <td>Juice;None of these</td>\n",
       "      <td>No, I donâ€™t smoke</td>\n",
       "    </tr>\n",
       "    <tr>\n",
       "      <th>3</th>\n",
       "      <td>25f68461-d03a-7bf3-db71-b3dddb46de9a</td>\n",
       "      <td>2</td>\n",
       "      <td>2</td>\n",
       "      <td>Large cities</td>\n",
       "      <td>No, I donâ€™t have access to a car/cars</td>\n",
       "      <td>NaN</td>\n",
       "      <td>NaN</td>\n",
       "      <td>NaN</td>\n",
       "      <td>Part-time work</td>\n",
       "      <td>Communications/Information</td>\n",
       "      <td>Technology Development Hardware (not only IT)</td>\n",
       "      <td>Single / Never married</td>\n",
       "      <td>Owned apartment</td>\n",
       "      <td>2</td>\n",
       "      <td>None</td>\n",
       "      <td>I don't have children</td>\n",
       "      <td>Coffee;Tea;Bottled water still;Bottled water s...</td>\n",
       "      <td>Yes, I smoke</td>\n",
       "    </tr>\n",
       "    <tr>\n",
       "      <th>4</th>\n",
       "      <td>8c36478c-e1b2-b81d-1b9c-701d714a0f57</td>\n",
       "      <td>1</td>\n",
       "      <td>2</td>\n",
       "      <td>Large cities</td>\n",
       "      <td>I own a car/cars</td>\n",
       "      <td>Ford;Hyundai</td>\n",
       "      <td>2015</td>\n",
       "      <td>2015</td>\n",
       "      <td>Full-time work</td>\n",
       "      <td>Construction</td>\n",
       "      <td>Operations</td>\n",
       "      <td>Married</td>\n",
       "      <td>Owned apartment</td>\n",
       "      <td>4</td>\n",
       "      <td>Two</td>\n",
       "      <td>2008;2014</td>\n",
       "      <td>Coffee;Tea;Regular soda;Diet soda;Bottled wate...</td>\n",
       "      <td>Yes, I smoke</td>\n",
       "    </tr>\n",
       "    <tr>\n",
       "      <th>...</th>\n",
       "      <td>...</td>\n",
       "      <td>...</td>\n",
       "      <td>...</td>\n",
       "      <td>...</td>\n",
       "      <td>...</td>\n",
       "      <td>...</td>\n",
       "      <td>...</td>\n",
       "      <td>...</td>\n",
       "      <td>...</td>\n",
       "      <td>...</td>\n",
       "      <td>...</td>\n",
       "      <td>...</td>\n",
       "      <td>...</td>\n",
       "      <td>...</td>\n",
       "      <td>...</td>\n",
       "      <td>...</td>\n",
       "      <td>...</td>\n",
       "      <td>...</td>\n",
       "    </tr>\n",
       "    <tr>\n",
       "      <th>442</th>\n",
       "      <td>a4a32e4b-bd07-31d9-af5c-19881c076190</td>\n",
       "      <td>1</td>\n",
       "      <td>2</td>\n",
       "      <td>Moscow</td>\n",
       "      <td>I have access to a car/cars</td>\n",
       "      <td>I don't own/lease a car</td>\n",
       "      <td>NaN</td>\n",
       "      <td>I don't own/lease a car</td>\n",
       "      <td>Full-time work</td>\n",
       "      <td>NaN</td>\n",
       "      <td>NaN</td>\n",
       "      <td>Married</td>\n",
       "      <td>Owned apartment</td>\n",
       "      <td>3</td>\n",
       "      <td>None</td>\n",
       "      <td>I don't have children</td>\n",
       "      <td>Imported beer;Red wine;Milk;Whiskey/Scotch/Bou...</td>\n",
       "      <td>NaN</td>\n",
       "    </tr>\n",
       "    <tr>\n",
       "      <th>443</th>\n",
       "      <td>8b23b4a2-3ae4-ab32-2fb5-8308a9f4e275</td>\n",
       "      <td>1</td>\n",
       "      <td>2</td>\n",
       "      <td>Moscow</td>\n",
       "      <td>I own a car/cars</td>\n",
       "      <td>Lada, AvtoVaz, Zhiguli</td>\n",
       "      <td>1980s</td>\n",
       "      <td>2007</td>\n",
       "      <td>Parental leave</td>\n",
       "      <td>I don't work</td>\n",
       "      <td>I don't work</td>\n",
       "      <td>Married</td>\n",
       "      <td>Owned house</td>\n",
       "      <td>4</td>\n",
       "      <td>Two</td>\n",
       "      <td>2014;2015</td>\n",
       "      <td>Champagne;Coffee;Tea</td>\n",
       "      <td>No, I have just quit</td>\n",
       "    </tr>\n",
       "    <tr>\n",
       "      <th>444</th>\n",
       "      <td>19e2fe25-4b84-e1b0-ee32-c9c9009853e9</td>\n",
       "      <td>2</td>\n",
       "      <td>2</td>\n",
       "      <td>Moscow</td>\n",
       "      <td>I own a car/cars</td>\n",
       "      <td>Audi;BMW</td>\n",
       "      <td>2019</td>\n",
       "      <td>2019</td>\n",
       "      <td>Full-time work</td>\n",
       "      <td>Engineering</td>\n",
       "      <td>Engineering</td>\n",
       "      <td>Married</td>\n",
       "      <td>Owned house</td>\n",
       "      <td>4</td>\n",
       "      <td>Two</td>\n",
       "      <td>2006;2013</td>\n",
       "      <td>Domestic beer;Imported beer;Red wine;White win...</td>\n",
       "      <td>Yes, I smoke</td>\n",
       "    </tr>\n",
       "    <tr>\n",
       "      <th>445</th>\n",
       "      <td>7c1cc150-36aa-dec4-1047-f63744b62a8c</td>\n",
       "      <td>2</td>\n",
       "      <td>1</td>\n",
       "      <td>Moscow</td>\n",
       "      <td>No, I donâ€™t have access to a car/cars</td>\n",
       "      <td>I don't own/lease a car</td>\n",
       "      <td>I don't own/lease a car</td>\n",
       "      <td>I don't own/lease a car</td>\n",
       "      <td>Part-time work</td>\n",
       "      <td>Manufacturing</td>\n",
       "      <td>Other</td>\n",
       "      <td>Married</td>\n",
       "      <td>Rented apartment</td>\n",
       "      <td>3</td>\n",
       "      <td>None</td>\n",
       "      <td>2000</td>\n",
       "      <td>Domestic beer;Imported beer;Red wine;White win...</td>\n",
       "      <td>Yes, I smoke</td>\n",
       "    </tr>\n",
       "    <tr>\n",
       "      <th>446</th>\n",
       "      <td>1359e13e-bde2-fe89-5529-d672c8fe2dfa</td>\n",
       "      <td>1</td>\n",
       "      <td>2</td>\n",
       "      <td>Moscow</td>\n",
       "      <td>NaN</td>\n",
       "      <td>NaN</td>\n",
       "      <td>NaN</td>\n",
       "      <td>NaN</td>\n",
       "      <td>NaN</td>\n",
       "      <td>NaN</td>\n",
       "      <td>NaN</td>\n",
       "      <td>Single / Never married</td>\n",
       "      <td>Owned apartment</td>\n",
       "      <td>2</td>\n",
       "      <td>None</td>\n",
       "      <td>I don't have children</td>\n",
       "      <td>Imported beer;Red wine;Champagne;Tequila;Spark...</td>\n",
       "      <td>No, I donâ€™t smoke</td>\n",
       "    </tr>\n",
       "  </tbody>\n",
       "</table>\n",
       "<p>447 rows × 18 columns</p>\n",
       "</div>"
      ],
      "text/plain": [
       "                        RespondentUrlCode Gender  Age TargetGroupName  \\\n",
       "0    d23a13d4-5f8a-ec55-17c4-2411db8ad123      1    2    Large cities   \n",
       "1    f5373ade-3fcb-c553-1ace-0d1cc83bc119      2    1    Large cities   \n",
       "2    e6b6c135-8047-3ea6-9b25-f69d797b6ee9      1    1    Large cities   \n",
       "3    25f68461-d03a-7bf3-db71-b3dddb46de9a      2    2    Large cities   \n",
       "4    8c36478c-e1b2-b81d-1b9c-701d714a0f57      1    2    Large cities   \n",
       "..                                    ...    ...  ...             ...   \n",
       "442  a4a32e4b-bd07-31d9-af5c-19881c076190      1    2          Moscow   \n",
       "443  8b23b4a2-3ae4-ab32-2fb5-8308a9f4e275      1    2          Moscow   \n",
       "444  19e2fe25-4b84-e1b0-ee32-c9c9009853e9      2    2          Moscow   \n",
       "445  7c1cc150-36aa-dec4-1047-f63744b62a8c      2    1          Moscow   \n",
       "446  1359e13e-bde2-fe89-5529-d672c8fe2dfa      1    2          Moscow   \n",
       "\n",
       "                               Access to car         Make of car/cars  \\\n",
       "0    No, I donâ€™t have access to a car/cars  I don't own/lease a car   \n",
       "1                           I own a car/cars               Volkswagen   \n",
       "2    No, I donâ€™t have access to a car/cars  I don't own/lease a car   \n",
       "3    No, I donâ€™t have access to a car/cars                      NaN   \n",
       "4                           I own a car/cars             Ford;Hyundai   \n",
       "..                                       ...                      ...   \n",
       "442              I have access to a car/cars  I don't own/lease a car   \n",
       "443                         I own a car/cars   Lada, AvtoVaz, Zhiguli   \n",
       "444                         I own a car/cars                 Audi;BMW   \n",
       "445  No, I donâ€™t have access to a car/cars  I don't own/lease a car   \n",
       "446                                      NaN                      NaN   \n",
       "\n",
       "       Car manufactured year        car purchase year      Occupation  \\\n",
       "0    I don't own/lease a car  I don't own/lease a car             NaN   \n",
       "1                       2017                     2019  Full-time work   \n",
       "2    I don't own/lease a car  I don't own/lease a car  Parental leave   \n",
       "3                        NaN                      NaN  Part-time work   \n",
       "4                       2015                     2015  Full-time work   \n",
       "..                       ...                      ...             ...   \n",
       "442                      NaN  I don't own/lease a car  Full-time work   \n",
       "443                    1980s                     2007  Parental leave   \n",
       "444                     2019                     2019  Full-time work   \n",
       "445  I don't own/lease a car  I don't own/lease a car  Part-time work   \n",
       "446                      NaN                      NaN             NaN   \n",
       "\n",
       "                Industry sector  \\\n",
       "0                           NaN   \n",
       "1                 Manufacturing   \n",
       "2                    Accounting   \n",
       "3    Communications/Information   \n",
       "4                  Construction   \n",
       "..                          ...   \n",
       "442                         NaN   \n",
       "443                I don't work   \n",
       "444                 Engineering   \n",
       "445               Manufacturing   \n",
       "446                         NaN   \n",
       "\n",
       "                                Field of expertise  \\\n",
       "0                  Customer Service/Client Service   \n",
       "1                                       Operations   \n",
       "2                                            Other   \n",
       "3    Technology Development Hardware (not only IT)   \n",
       "4                                       Operations   \n",
       "..                                             ...   \n",
       "442                                            NaN   \n",
       "443                                   I don't work   \n",
       "444                                    Engineering   \n",
       "445                                          Other   \n",
       "446                                            NaN   \n",
       "\n",
       "                                 Marital Status           Accommodation  \\\n",
       "0    Domestic partnership / Living with partner        Rented apartment   \n",
       "1                                       Married         Owned apartment   \n",
       "2                                       Married  Living with my parents   \n",
       "3                        Single / Never married         Owned apartment   \n",
       "4                                       Married         Owned apartment   \n",
       "..                                          ...                     ...   \n",
       "442                                     Married         Owned apartment   \n",
       "443                                     Married             Owned house   \n",
       "444                                     Married             Owned house   \n",
       "445                                     Married        Rented apartment   \n",
       "446                      Single / Never married         Owned apartment   \n",
       "\n",
       "    Household Size Number of children       Ages of children  \\\n",
       "0                3                One                   2005   \n",
       "1                5              Three         2003;2005;2008   \n",
       "2                6                Two                   2011   \n",
       "3                2               None  I don't have children   \n",
       "4                4                Two              2008;2014   \n",
       "..             ...                ...                    ...   \n",
       "442              3               None  I don't have children   \n",
       "443              4                Two              2014;2015   \n",
       "444              4                Two              2006;2013   \n",
       "445              3               None                   2000   \n",
       "446              2               None  I don't have children   \n",
       "\n",
       "                                  Beverage consumption Tobacco - Do you smoke  \n",
       "0                    Coffee;Regular soda;Domestic beer                    NaN  \n",
       "1    Coffee;Tea;Bottled water still;Juice;Domestic ...           Yes, I smoke  \n",
       "2                                  Juice;None of these    No, I donâ€™t smoke  \n",
       "3    Coffee;Tea;Bottled water still;Bottled water s...           Yes, I smoke  \n",
       "4    Coffee;Tea;Regular soda;Diet soda;Bottled wate...           Yes, I smoke  \n",
       "..                                                 ...                    ...  \n",
       "442  Imported beer;Red wine;Milk;Whiskey/Scotch/Bou...                    NaN  \n",
       "443                               Champagne;Coffee;Tea   No, I have just quit  \n",
       "444  Domestic beer;Imported beer;Red wine;White win...           Yes, I smoke  \n",
       "445  Domestic beer;Imported beer;Red wine;White win...           Yes, I smoke  \n",
       "446  Imported beer;Red wine;Champagne;Tequila;Spark...    No, I donâ€™t smoke  \n",
       "\n",
       "[447 rows x 18 columns]"
      ]
     },
     "execution_count": 61,
     "metadata": {},
     "output_type": "execute_result"
    }
   ],
   "source": [
    "df1"
   ]
  },
  {
   "cell_type": "code",
   "execution_count": 60,
   "metadata": {},
   "outputs": [
    {
     "data": {
      "text/plain": [
       "\"I don't own/lease a car\""
      ]
     },
     "execution_count": 60,
     "metadata": {},
     "output_type": "execute_result"
    }
   ],
   "source": [
    "df1['Make of car/cars'].value_counts().index[0]"
   ]
  },
  {
   "cell_type": "code",
   "execution_count": 24,
   "metadata": {},
   "outputs": [
    {
     "name": "stdout",
     "output_type": "stream",
     "text": [
      "hello-\n"
     ]
    }
   ],
   "source": [
    "print('hello'+'-')"
   ]
  },
  {
   "cell_type": "code",
   "execution_count": 12,
   "metadata": {},
   "outputs": [],
   "source": [
    "import json\n",
    "import pandas as pd"
   ]
  },
  {
   "cell_type": "code",
   "execution_count": 18,
   "metadata": {},
   "outputs": [],
   "source": [
    "data = pd.read_json('Downloads/credentials.json', orient = 'index')"
   ]
  },
  {
   "cell_type": "code",
   "execution_count": 17,
   "metadata": {},
   "outputs": [
    {
     "ename": "AttributeError",
     "evalue": "'str' object has no attribute 'read'",
     "output_type": "error",
     "traceback": [
      "\u001b[1;31m---------------------------------------------------------------------------\u001b[0m",
      "\u001b[1;31mAttributeError\u001b[0m                            Traceback (most recent call last)",
      "\u001b[1;32m<ipython-input-17-c161d0079fa7>\u001b[0m in \u001b[0;36m<module>\u001b[1;34m\u001b[0m\n\u001b[1;32m----> 1\u001b[1;33m \u001b[0mjson\u001b[0m\u001b[1;33m.\u001b[0m\u001b[0mload\u001b[0m\u001b[1;33m(\u001b[0m\u001b[1;34m'Downloads/credentials.json'\u001b[0m\u001b[1;33m)\u001b[0m\u001b[1;33m\u001b[0m\u001b[1;33m\u001b[0m\u001b[0m\n\u001b[0m",
      "\u001b[1;32m~\\Anaconda3\\lib\\json\\__init__.py\u001b[0m in \u001b[0;36mload\u001b[1;34m(fp, cls, object_hook, parse_float, parse_int, parse_constant, object_pairs_hook, **kw)\u001b[0m\n\u001b[0;32m    291\u001b[0m     \u001b[0mkwarg\u001b[0m\u001b[1;33m;\u001b[0m \u001b[0motherwise\u001b[0m\u001b[0;31m \u001b[0m\u001b[0;31m`\u001b[0m\u001b[0;31m`\u001b[0m\u001b[0mJSONDecoder\u001b[0m\u001b[0;31m`\u001b[0m\u001b[0;31m`\u001b[0m \u001b[1;32mis\u001b[0m \u001b[0mused\u001b[0m\u001b[1;33m.\u001b[0m\u001b[1;33m\u001b[0m\u001b[1;33m\u001b[0m\u001b[0m\n\u001b[0;32m    292\u001b[0m     \"\"\"\n\u001b[1;32m--> 293\u001b[1;33m     return loads(fp.read(),\n\u001b[0m\u001b[0;32m    294\u001b[0m         \u001b[0mcls\u001b[0m\u001b[1;33m=\u001b[0m\u001b[0mcls\u001b[0m\u001b[1;33m,\u001b[0m \u001b[0mobject_hook\u001b[0m\u001b[1;33m=\u001b[0m\u001b[0mobject_hook\u001b[0m\u001b[1;33m,\u001b[0m\u001b[1;33m\u001b[0m\u001b[1;33m\u001b[0m\u001b[0m\n\u001b[0;32m    295\u001b[0m         \u001b[0mparse_float\u001b[0m\u001b[1;33m=\u001b[0m\u001b[0mparse_float\u001b[0m\u001b[1;33m,\u001b[0m \u001b[0mparse_int\u001b[0m\u001b[1;33m=\u001b[0m\u001b[0mparse_int\u001b[0m\u001b[1;33m,\u001b[0m\u001b[1;33m\u001b[0m\u001b[1;33m\u001b[0m\u001b[0m\n",
      "\u001b[1;31mAttributeError\u001b[0m: 'str' object has no attribute 'read'"
     ]
    }
   ],
   "source": [
    "json.load('Downloads/credentials.json')"
   ]
  },
  {
   "cell_type": "code",
   "execution_count": 16,
   "metadata": {},
   "outputs": [
    {
     "name": "stdout",
     "output_type": "stream",
     "text": [
      "{'installed': {'client_id': '901639305152-qeb323kh4atcndvi4p1aj5bpvbd9jnj6.apps.googleusercontent.com', 'project_id': 'quickstart-1603107659956', 'auth_uri': 'https://accounts.google.com/o/oauth2/auth', 'token_uri': 'https://oauth2.googleapis.com/token', 'auth_provider_x509_cert_url': 'https://www.googleapis.com/oauth2/v1/certs', 'client_secret': 'G49yVOoBE5YnMlNJwt-IhpQz', 'redirect_uris': ['urn:ietf:wg:oauth:2.0:oob', 'http://localhost']}}\n"
     ]
    }
   ],
   "source": [
    "with open('Downloads/credentials.json') as f:\n",
    "    data = json.load(f)\n",
    "print (data)"
   ]
  },
  {
   "cell_type": "code",
   "execution_count": 19,
   "metadata": {},
   "outputs": [
    {
     "data": {
      "text/html": [
       "<div>\n",
       "<style scoped>\n",
       "    .dataframe tbody tr th:only-of-type {\n",
       "        vertical-align: middle;\n",
       "    }\n",
       "\n",
       "    .dataframe tbody tr th {\n",
       "        vertical-align: top;\n",
       "    }\n",
       "\n",
       "    .dataframe thead th {\n",
       "        text-align: right;\n",
       "    }\n",
       "</style>\n",
       "<table border=\"1\" class=\"dataframe\">\n",
       "  <thead>\n",
       "    <tr style=\"text-align: right;\">\n",
       "      <th></th>\n",
       "      <th>client_id</th>\n",
       "      <th>project_id</th>\n",
       "      <th>auth_uri</th>\n",
       "      <th>token_uri</th>\n",
       "      <th>auth_provider_x509_cert_url</th>\n",
       "      <th>client_secret</th>\n",
       "      <th>redirect_uris</th>\n",
       "    </tr>\n",
       "  </thead>\n",
       "  <tbody>\n",
       "    <tr>\n",
       "      <th>installed</th>\n",
       "      <td>901639305152-qeb323kh4atcndvi4p1aj5bpvbd9jnj6....</td>\n",
       "      <td>quickstart-1603107659956</td>\n",
       "      <td>https://accounts.google.com/o/oauth2/auth</td>\n",
       "      <td>https://oauth2.googleapis.com/token</td>\n",
       "      <td>https://www.googleapis.com/oauth2/v1/certs</td>\n",
       "      <td>G49yVOoBE5YnMlNJwt-IhpQz</td>\n",
       "      <td>[urn:ietf:wg:oauth:2.0:oob, http://localhost]</td>\n",
       "    </tr>\n",
       "  </tbody>\n",
       "</table>\n",
       "</div>"
      ],
      "text/plain": [
       "                                                   client_id  \\\n",
       "installed  901639305152-qeb323kh4atcndvi4p1aj5bpvbd9jnj6....   \n",
       "\n",
       "                         project_id  \\\n",
       "installed  quickstart-1603107659956   \n",
       "\n",
       "                                            auth_uri  \\\n",
       "installed  https://accounts.google.com/o/oauth2/auth   \n",
       "\n",
       "                                     token_uri  \\\n",
       "installed  https://oauth2.googleapis.com/token   \n",
       "\n",
       "                          auth_provider_x509_cert_url  \\\n",
       "installed  https://www.googleapis.com/oauth2/v1/certs   \n",
       "\n",
       "                      client_secret  \\\n",
       "installed  G49yVOoBE5YnMlNJwt-IhpQz   \n",
       "\n",
       "                                           redirect_uris  \n",
       "installed  [urn:ietf:wg:oauth:2.0:oob, http://localhost]  "
      ]
     },
     "execution_count": 19,
     "metadata": {},
     "output_type": "execute_result"
    }
   ],
   "source": [
    "data"
   ]
  },
  {
   "cell_type": "code",
   "execution_count": 20,
   "metadata": {},
   "outputs": [
    {
     "name": "stdout",
     "output_type": "stream",
     "text": [
      "Collecting google-api-python-client\n",
      "  Downloading google_api_python_client-1.12.3-py2.py3-none-any.whl (61 kB)\n",
      "Collecting google-auth-httplib2\n",
      "  Downloading google_auth_httplib2-0.0.4-py2.py3-none-any.whl (9.1 kB)\n",
      "Collecting google-auth-oauthlib\n",
      "  Downloading google_auth_oauthlib-0.4.1-py2.py3-none-any.whl (18 kB)\n",
      "Collecting google-api-core<2dev,>=1.21.0\n",
      "  Downloading google_api_core-1.22.4-py2.py3-none-any.whl (91 kB)\n",
      "Requirement already satisfied, skipping upgrade: six<2dev,>=1.13.0 in c:\\users\\moskvoretskiyvv\\anaconda3\\lib\\site-packages (from google-api-python-client) (1.14.0)\n",
      "Collecting google-auth>=1.16.0\n",
      "  Downloading google_auth-1.22.1-py2.py3-none-any.whl (114 kB)\n",
      "Collecting uritemplate<4dev,>=3.0.0\n",
      "  Downloading uritemplate-3.0.1-py2.py3-none-any.whl (15 kB)\n",
      "Collecting httplib2<1dev,>=0.15.0\n",
      "  Downloading httplib2-0.18.1-py3-none-any.whl (95 kB)\n",
      "Collecting requests-oauthlib>=0.7.0\n",
      "  Downloading requests_oauthlib-1.3.0-py2.py3-none-any.whl (23 kB)\n",
      "Requirement already satisfied, skipping upgrade: requests<3.0.0dev,>=2.18.0 in c:\\users\\moskvoretskiyvv\\anaconda3\\lib\\site-packages (from google-api-core<2dev,>=1.21.0->google-api-python-client) (2.22.0)\n",
      "Collecting googleapis-common-protos<2.0dev,>=1.6.0\n",
      "  Downloading googleapis_common_protos-1.52.0-py2.py3-none-any.whl (100 kB)\n",
      "Requirement already satisfied, skipping upgrade: setuptools>=34.0.0 in c:\\users\\moskvoretskiyvv\\anaconda3\\lib\\site-packages (from google-api-core<2dev,>=1.21.0->google-api-python-client) (45.2.0.post20200210)\n",
      "Collecting protobuf>=3.12.0\n",
      "  Downloading protobuf-3.13.0-cp37-cp37m-win_amd64.whl (1.0 MB)\n",
      "Requirement already satisfied, skipping upgrade: pytz in c:\\users\\moskvoretskiyvv\\anaconda3\\lib\\site-packages (from google-api-core<2dev,>=1.21.0->google-api-python-client) (2019.3)\n",
      "Collecting cachetools<5.0,>=2.0.0\n",
      "  Downloading cachetools-4.1.1-py3-none-any.whl (10 kB)\n",
      "Collecting rsa<5,>=3.1.4; python_version >= \"3.5\"\n",
      "  Downloading rsa-4.6-py3-none-any.whl (47 kB)\n",
      "Collecting pyasn1-modules>=0.2.1\n",
      "  Downloading pyasn1_modules-0.2.8-py2.py3-none-any.whl (155 kB)\n",
      "Collecting oauthlib>=3.0.0\n",
      "  Downloading oauthlib-3.1.0-py2.py3-none-any.whl (147 kB)\n",
      "Requirement already satisfied, skipping upgrade: idna<2.9,>=2.5 in c:\\users\\moskvoretskiyvv\\anaconda3\\lib\\site-packages (from requests<3.0.0dev,>=2.18.0->google-api-core<2dev,>=1.21.0->google-api-python-client) (2.8)\n",
      "Requirement already satisfied, skipping upgrade: chardet<3.1.0,>=3.0.2 in c:\\users\\moskvoretskiyvv\\anaconda3\\lib\\site-packages (from requests<3.0.0dev,>=2.18.0->google-api-core<2dev,>=1.21.0->google-api-python-client) (3.0.4)\n",
      "Requirement already satisfied, skipping upgrade: urllib3!=1.25.0,!=1.25.1,<1.26,>=1.21.1 in c:\\users\\moskvoretskiyvv\\anaconda3\\lib\\site-packages (from requests<3.0.0dev,>=2.18.0->google-api-core<2dev,>=1.21.0->google-api-python-client) (1.25.8)\n",
      "Requirement already satisfied, skipping upgrade: certifi>=2017.4.17 in c:\\users\\moskvoretskiyvv\\anaconda3\\lib\\site-packages (from requests<3.0.0dev,>=2.18.0->google-api-core<2dev,>=1.21.0->google-api-python-client) (2019.11.28)\n",
      "Collecting pyasn1>=0.1.3\n",
      "  Downloading pyasn1-0.4.8-py2.py3-none-any.whl (77 kB)\n",
      "Installing collected packages: cachetools, pyasn1, rsa, pyasn1-modules, google-auth, httplib2, google-auth-httplib2, protobuf, googleapis-common-protos, google-api-core, uritemplate, google-api-python-client, oauthlib, requests-oauthlib, google-auth-oauthlib\n",
      "Successfully installed cachetools-4.1.1 google-api-core-1.22.4 google-api-python-client-1.12.3 google-auth-1.22.1 google-auth-httplib2-0.0.4 google-auth-oauthlib-0.4.1 googleapis-common-protos-1.52.0 httplib2-0.18.1 oauthlib-3.1.0 protobuf-3.13.0 pyasn1-0.4.8 pyasn1-modules-0.2.8 requests-oauthlib-1.3.0 rsa-4.6 uritemplate-3.0.1\n"
     ]
    }
   ],
   "source": [
    "!pip install --upgrade google-api-python-client google-auth-httplib2 google-auth-oauthlib"
   ]
  },
  {
   "cell_type": "code",
   "execution_count": 21,
   "metadata": {},
   "outputs": [],
   "source": [
    "from googleapiclient.discovery import build\n",
    "def pull_sheet_data(SCOPES,SPREADSHEET_ID,RANGE_NAME):\n",
    "    creds = gsheet_api_check(SCOPES)\n",
    "    service = build('sheets', 'v4', credentials=creds)\n",
    "    sheet = service.spreadsheets()\n",
    "    result = sheet.values().get(\n",
    "        spreadsheetId=SPREADSHEET_ID,\n",
    "        range=RANGE_NAME).execute()\n",
    "    values = result.get('values', [])\n",
    "    \n",
    "    if not values:\n",
    "        print('No data found.')\n",
    "    else:\n",
    "        rows = sheet.values().get(spreadsheetId=SPREADSHEET_ID,\n",
    "                                  range=RANGE_NAME).execute()\n",
    "        data = rows.get('values')\n",
    "        print(\"COMPLETE: Data copied\")\n",
    "        return data"
   ]
  },
  {
   "cell_type": "code",
   "execution_count": null,
   "metadata": {},
   "outputs": [],
   "source": []
  }
 ],
 "metadata": {
  "kernelspec": {
   "display_name": "Python 3",
   "language": "python",
   "name": "python3"
  },
  "language_info": {
   "codemirror_mode": {
    "name": "ipython",
    "version": 3
   },
   "file_extension": ".py",
   "mimetype": "text/x-python",
   "name": "python",
   "nbconvert_exporter": "python",
   "pygments_lexer": "ipython3",
   "version": "3.7.6"
  }
 },
 "nbformat": 4,
 "nbformat_minor": 4
}
